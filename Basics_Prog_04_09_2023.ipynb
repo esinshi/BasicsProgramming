{
 "cells": [
  {
   "cell_type": "code",
   "execution_count": 1,
   "metadata": {},
   "outputs": [],
   "source": [
    "# Basics of Programming\n",
    "# 04 September 2023\n",
    "\n",
    "# Esin Bahar Akcay"
   ]
  },
  {
   "cell_type": "code",
   "execution_count": 2,
   "metadata": {},
   "outputs": [
    {
     "name": "stdout",
     "output_type": "stream",
     "text": [
      "Five is greater than two!\n"
     ]
    }
   ],
   "source": [
    "# Indentation\n",
    "\n",
    "if 5 > 2:\n",
    "    print('Five is greater than two!')"
   ]
  },
  {
   "cell_type": "code",
   "execution_count": 3,
   "metadata": {},
   "outputs": [
    {
     "name": "stdout",
     "output_type": "stream",
     "text": [
      "Type of a:  <class 'int'>\n",
      "\n",
      "Type of a:  <class 'float'>\n",
      "\n",
      "Type of a:  <class 'complex'>\n"
     ]
    }
   ],
   "source": [
    "# Numeric variables\n",
    "\n",
    "a = 5\n",
    "print(\"Type of a: \", type(a))\n",
    "\n",
    "b = 5.0\n",
    "print(\"\\nType of a: \", type(b))\n",
    "\n",
    "c = 2 + 4j\n",
    "print(\"\\nType of a: \", type(c))"
   ]
  },
  {
   "cell_type": "code",
   "execution_count": 4,
   "metadata": {},
   "outputs": [
    {
     "name": "stdout",
     "output_type": "stream",
     "text": [
      "\n",
      "First character of String1 is: \n",
      "P\n",
      "Printing String Variable: \n",
      "Python basics\n"
     ]
    }
   ],
   "source": [
    "# Strings\n",
    "String1 = 'Python basics'\n",
    "print(\"\\nFirst character of String1 is: \")\n",
    "print(String1[0])\n",
    "\n",
    "print(\"Printing String Variable: \")\n",
    "print(String1)"
   ]
  },
  {
   "cell_type": "code",
   "execution_count": 5,
   "metadata": {},
   "outputs": [
    {
     "name": "stdout",
     "output_type": "stream",
     "text": [
      "<class 'bool'>\n",
      "<class 'bool'>\n"
     ]
    }
   ],
   "source": [
    "# Boolean\n",
    "\n",
    "bool1 = True\n",
    "bool2 = False\n",
    "\n",
    "print(type(bool1))\n",
    "print(type(bool2))"
   ]
  },
  {
   "cell_type": "code",
   "execution_count": 6,
   "metadata": {},
   "outputs": [
    {
     "name": "stdout",
     "output_type": "stream",
     "text": [
      "1.05\n"
     ]
    },
    {
     "data": {
      "text/plain": [
       "'\\nDocstrings\\n'"
      ]
     },
     "execution_count": 6,
     "metadata": {},
     "output_type": "execute_result"
    }
   ],
   "source": [
    "# Comments\n",
    "\n",
    "# increase price by 5%\n",
    "price = 1\n",
    "price = price * 1.05\n",
    "\n",
    "print(price)\n",
    "\n",
    "'''\n",
    "Docstrings\n",
    "'''"
   ]
  },
  {
   "cell_type": "code",
   "execution_count": 7,
   "metadata": {},
   "outputs": [
    {
     "name": "stdout",
     "output_type": "stream",
     "text": [
      "Enter your age:23\n",
      "You are eligible to vote.\n"
     ]
    }
   ],
   "source": [
    "# Python Operators\n",
    "age = input('Enter your age:')\n",
    "\n",
    "if int(age) >= 18:\n",
    "    print('You are eligible to vote.')"
   ]
  },
  {
   "cell_type": "code",
   "execution_count": 8,
   "metadata": {},
   "outputs": [
    {
     "name": "stdout",
     "output_type": "stream",
     "text": [
      "zero\n",
      "this statement is always executed\n"
     ]
    }
   ],
   "source": [
    "# if ... elif ... else\n",
    "\n",
    "number = 0\n",
    "\n",
    "if number > 0:\n",
    "    print('positive number')\n",
    "    \n",
    "elif number == 0:\n",
    "    print('zero')\n",
    "\n",
    "else:\n",
    "    print('negative number')\n",
    "\n",
    "print('this statement is always executed')"
   ]
  },
  {
   "cell_type": "code",
   "execution_count": 9,
   "metadata": {},
   "outputs": [
    {
     "name": "stdout",
     "output_type": "stream",
     "text": [
      "0\n",
      "1\n",
      "2\n",
      "3\n",
      "4\n"
     ]
    }
   ],
   "source": [
    "# for loop\n",
    "\n",
    "for index in range(5):\n",
    "    print(index)"
   ]
  },
  {
   "cell_type": "code",
   "execution_count": 10,
   "metadata": {},
   "outputs": [
    {
     "name": "stdout",
     "output_type": "stream",
     "text": [
      "0\n",
      "1\n",
      "2\n",
      "3\n",
      "4\n"
     ]
    }
   ],
   "source": [
    "max = 5\n",
    "counter = 0\n",
    "\n",
    "while counter < max:\n",
    "    print(counter)\n",
    "    counter += 1"
   ]
  },
  {
   "cell_type": "code",
   "execution_count": 11,
   "metadata": {},
   "outputs": [
    {
     "name": "stdout",
     "output_type": "stream",
     "text": [
      "0\n",
      "1\n",
      "2\n",
      "3\n"
     ]
    }
   ],
   "source": [
    "# break\n",
    "\n",
    "for index in range(0, 10):\n",
    "    print(index)\n",
    "    if index == 3:\n",
    "        break"
   ]
  },
  {
   "cell_type": "code",
   "execution_count": 12,
   "metadata": {},
   "outputs": [
    {
     "name": "stdout",
     "output_type": "stream",
     "text": [
      "0\n",
      "2\n",
      "4\n",
      "6\n",
      "8\n"
     ]
    }
   ],
   "source": [
    "# continue\n",
    "\n",
    "for index in range(10):\n",
    "    if index % 2:\n",
    "        continue\n",
    "    print(index)"
   ]
  },
  {
   "cell_type": "code",
   "execution_count": 17,
   "metadata": {},
   "outputs": [
    {
     "name": "stdout",
     "output_type": "stream",
     "text": [
      "0\n",
      "1\n",
      "1\n",
      "2\n",
      "3\n",
      "5\n",
      "8\n",
      "13\n",
      "21\n",
      "34\n",
      "55\n"
     ]
    }
   ],
   "source": [
    "'''\n",
    "Exercise 1: Fibonacci Series\n",
    "Print the first 11 numbers of Fibonacci series (F_0,...,F_10)\n",
    "\n",
    "'''\n",
    "\n",
    "num1 = 0\n",
    "num2 = 1\n",
    "print(num1)\n",
    "print(num2)\n",
    "\n",
    "for x in range(1,10):\n",
    "    num3 = num1 + num2\n",
    "    print(num3)\n",
    "    num1, num2 = num2, num3"
   ]
  },
  {
   "cell_type": "code",
   "execution_count": 14,
   "metadata": {},
   "outputs": [
    {
     "name": "stdout",
     "output_type": "stream",
     "text": [
      "Hi Esin\n",
      "Hi John\n",
      "None\n"
     ]
    }
   ],
   "source": [
    "# Functions\n",
    "\n",
    "def greet(name):\n",
    "    print(\"Hi \" + name)\n",
    "\n",
    "greet(\"Esin\")\n",
    "\n",
    "greeting = greet(\"John\")\n",
    "print(greeting)"
   ]
  },
  {
   "cell_type": "code",
   "execution_count": 15,
   "metadata": {},
   "outputs": [
    {
     "name": "stdout",
     "output_type": "stream",
     "text": [
      "[1, 3, 2, 7, 9, 4]\n",
      "['red', 'green', 'blue']\n",
      "1\n",
      "[10, 3, 2, 7, 9, 4]\n",
      "[10, 3, 2, 7, 9, 4, 100]\n"
     ]
    }
   ],
   "source": [
    "# Lists\n",
    "numbers = [1,3,2,7,9,4]\n",
    "colors = ['red', 'green', 'blue']\n",
    "\n",
    "print(numbers)\n",
    "print(colors)\n",
    "\n",
    "print(numbers[0])\n",
    "\n",
    "numbers[0] = 10\n",
    "print(numbers)\n",
    "\n",
    "numbers.append(100)\n",
    "print(numbers)"
   ]
  },
  {
   "cell_type": "code",
   "execution_count": 16,
   "metadata": {},
   "outputs": [
    {
     "name": "stdout",
     "output_type": "stream",
     "text": [
      "['a', 1, 'b', 2, 'c', 3]\n"
     ]
    }
   ],
   "source": [
    "# Exercise 2 Lists\n",
    "\n",
    "\n",
    "letters = ['a', 'b', 'c']\n",
    "numbers = [1, 2, 3]\n",
    "\n",
    "\n",
    "def func1(list_letter, list_number):\n",
    "    newList = []\n",
    "    for i in range(len(list_letter)):\n",
    "        newList.append(list_letter[i])\n",
    "        newList.append(list_number[i])\n",
    "    return newList\n",
    "\n",
    "\n",
    "print(func1(letters, numbers))"
   ]
  }
 ],
 "metadata": {
  "kernelspec": {
   "display_name": "Python 3 (ipykernel)",
   "language": "python",
   "name": "python3"
  },
  "language_info": {
   "codemirror_mode": {
    "name": "ipython",
    "version": 3
   },
   "file_extension": ".py",
   "mimetype": "text/x-python",
   "name": "python",
   "nbconvert_exporter": "python",
   "pygments_lexer": "ipython3",
   "version": "3.9.7"
  }
 },
 "nbformat": 4,
 "nbformat_minor": 4
}
